{
 "cells": [
  {
   "cell_type": "markdown",
   "metadata": {},
   "source": [
    "## 引言\n",
    "我一直认为没有必要在考试中求截面矩和质心一类玩意，因为现在的电脑太容易求出这些几何性质的量了。Ansys和AutoCAD都内置了相关函数，其实就算要求解析解也不困难，这里就做个演示。"
   ]
  },
  {
   "cell_type": "code",
   "execution_count": 1,
   "metadata": {
    "collapsed": false
   },
   "outputs": [
    {
     "name": "stdout",
     "output_type": "stream",
     "text": [
      "Populating the interactive namespace from numpy and matplotlib\n"
     ]
    }
   ],
   "source": [
    "%pylab inline\n",
    "from sympy import Polygon, Point, var, init_printing, simplify, series\n",
    "import sympy\n",
    "init_printing()\n",
    "var('b,h,t')\n",
    "from second_moments import second_moments"
   ]
  },
  {
   "cell_type": "markdown",
   "metadata": {},
   "source": [
    "## 矩形截面：\n",
    "假设宽为b，高为h。"
   ]
  },
  {
   "cell_type": "code",
   "execution_count": 2,
   "metadata": {
    "collapsed": false
   },
   "outputs": [
    {
     "data": {
      "image/png": "[encoded data removed]",
      "text/latex": [
       "$$b h$$"
      ],
      "text/plain": [
       "b⋅h"
      ]
     },
     "execution_count": 2,
     "metadata": {},
     "output_type": "execute_result"
    }
   ],
   "source": [
    "p = map(Point,((0,0),(b,0),(b,h),(0,h)))\n",
    "poly = Polygon(*p)\n",
    "poly.area"
   ]
  },
  {
   "cell_type": "code",
   "execution_count": 3,
   "metadata": {
    "collapsed": false
   },
   "outputs": [
    {
     "data": {
      "image/png": "[encoded data removed]",
      "text/latex": [
       "$$Point(b/2, h/2)$$"
      ],
      "text/plain": [
       "Point(b/2, h/2)"
      ]
     },
     "execution_count": 3,
     "metadata": {},
     "output_type": "execute_result"
    }
   ],
   "source": [
    "poly.centroid"
   ]
  },
  {
   "cell_type": "code",
   "execution_count": 4,
   "metadata": {
    "collapsed": false
   },
   "outputs": [
    {
     "data": {
      "image/png": "[encoded data removed]",
      "text/latex": [
       "$$\\left ( \\frac{b h^{3}}{12}, \\quad \\frac{b^{3} h}{12}, \\quad 0\\right )$$"
      ],
      "text/plain": [
       "⎛   3   3     ⎞\n",
       "⎜b⋅h   b ⋅h   ⎟\n",
       "⎜────, ────, 0⎟\n",
       "⎝ 12    12    ⎠"
      ]
     },
     "execution_count": 4,
     "metadata": {},
     "output_type": "execute_result"
    }
   ],
   "source": [
    "Ix, Iy, Ixy = second_moments(poly)\n",
    "Ix, Iy, Ixy"
   ]
  },
  {
   "cell_type": "markdown",
   "metadata": {},
   "source": [
    "## L形截面\n",
    "假设厚度都是t,宽为b，高为h"
   ]
  },
  {
   "cell_type": "code",
   "execution_count": 5,
   "metadata": {
    "collapsed": false
   },
   "outputs": [
    {
     "data": {
      "image/png": "[encoded data removed]",
      "text/latex": [
       "$$t \\left(b + h - t\\right)$$"
      ],
      "text/plain": [
       "t⋅(b + h - t)"
      ]
     },
     "execution_count": 5,
     "metadata": {},
     "output_type": "execute_result"
    }
   ],
   "source": [
    "p = map(Point,((0,0),(b,0),(b,t),(t,t),(t,h),(0,h)))\n",
    "poly = Polygon(*p)\n",
    "poly.area"
   ]
  },
  {
   "cell_type": "code",
   "execution_count": 6,
   "metadata": {
    "collapsed": false
   },
   "outputs": [
    {
     "data": {
      "image/png": "[encoded data removed]",
      "text/latex": [
       "$$Point((b**2 + h*t - t**2)/(2*(b + h - t)), (b*t + h**2 - t**2)/(2*(b + h - t)))$$"
      ],
      "text/plain": [
       "Point((b**2 + h*t - t**2)/(2*(b + h - t)), (b*t + h**2 - t**2)/(2*(b + h - t))\n",
       ")"
      ]
     },
     "execution_count": 6,
     "metadata": {},
     "output_type": "execute_result"
    }
   ],
   "source": [
    "simplify(poly.centroid)"
   ]
  },
  {
   "cell_type": "code",
   "execution_count": 7,
   "metadata": {
    "collapsed": false
   },
   "outputs": [
    {
     "data": {
      "image/png": "[encoded data removed]",
      "text/latex": [
       "$$\\left ( \\frac{t}{12 b + 12 h - 12 t} \\left(b^{2} t^{2} + 4 b h^{3} - 6 b h^{2} t + 4 b h t^{2} - 2 b t^{3} + h^{4} - 4 h^{3} t + 6 h^{2} t^{2} - 4 h t^{3} + t^{4}\\right), \\quad \\frac{t}{12 b + 12 h - 12 t} \\left(b^{4} + 4 b^{3} h - 4 b^{3} t - 6 b^{2} h t + 6 b^{2} t^{2} + 4 b h t^{2} - 4 b t^{3} + h^{2} t^{2} - 2 h t^{3} + t^{4}\\right), \\quad \\frac{b h t \\left(b h - b t - h t + t^{2}\\right)}{- 4 b - 4 h + 4 t}\\right )$$"
      ],
      "text/plain": [
       "⎛  ⎛ 2  2        3        2            2        3    4      3        2  2     \n",
       "⎜t⋅⎝b ⋅t  + 4⋅b⋅h  - 6⋅b⋅h ⋅t + 4⋅b⋅h⋅t  - 2⋅b⋅t  + h  - 4⋅h ⋅t + 6⋅h ⋅t  - 4⋅\n",
       "⎜─────────────────────────────────────────────────────────────────────────────\n",
       "⎝                                   12⋅b + 12⋅h - 12⋅t                        \n",
       "\n",
       "   3    4⎞    ⎛ 4      3        3        2          2  2          2        3  \n",
       "h⋅t  + t ⎠  t⋅⎝b  + 4⋅b ⋅h - 4⋅b ⋅t - 6⋅b ⋅h⋅t + 6⋅b ⋅t  + 4⋅b⋅h⋅t  - 4⋅b⋅t  +\n",
       "──────────, ──────────────────────────────────────────────────────────────────\n",
       "                                               12⋅b + 12⋅h - 12⋅t             \n",
       "\n",
       "  2  2        3    4⎞        ⎛                   2⎞⎞\n",
       " h ⋅t  - 2⋅h⋅t  + t ⎠  b⋅h⋅t⋅⎝b⋅h - b⋅t - h⋅t + t ⎠⎟\n",
       "─────────────────────, ────────────────────────────⎟\n",
       "                              4⋅(-b - h + t)       ⎠"
      ]
     },
     "execution_count": 7,
     "metadata": {},
     "output_type": "execute_result"
    }
   ],
   "source": [
    "Ix, Iy, Ixy = simplify(second_moments(poly))\n",
    "Ix, Iy, Ixy"
   ]
  },
  {
   "cell_type": "markdown",
   "metadata": {},
   "source": [
    "你实际上还可以得到$t$是小量时候的二阶近似"
   ]
  },
  {
   "cell_type": "code",
   "execution_count": 8,
   "metadata": {
    "collapsed": false
   },
   "outputs": [
    {
     "data": {
      "image/png": "[encoded data removed]",
      "text/latex": [
       "$$\\frac{h^{3} t \\left(4 b + h\\right)}{12 b + 12 h}$$"
      ],
      "text/plain": [
       " 3            \n",
       "h ⋅t⋅(4⋅b + h)\n",
       "──────────────\n",
       "  12⋅(b + h)  "
      ]
     },
     "execution_count": 8,
     "metadata": {},
     "output_type": "execute_result"
    }
   ],
   "source": [
    "simplify(sympy.series(Ix,t,n=2).removeO())"
   ]
  },
  {
   "cell_type": "code",
   "execution_count": 9,
   "metadata": {
    "collapsed": false
   },
   "outputs": [
    {
     "data": {
      "image/png": "[encoded data removed]",
      "text/latex": [
       "$$\\frac{b^{3} t \\left(b + 4 h\\right)}{12 b + 12 h}$$"
      ],
      "text/plain": [
       " 3            \n",
       "b ⋅t⋅(b + 4⋅h)\n",
       "──────────────\n",
       "  12⋅(b + h)  "
      ]
     },
     "execution_count": 9,
     "metadata": {},
     "output_type": "execute_result"
    }
   ],
   "source": [
    "simplify(sympy.series(Iy,t,n=2).removeO())"
   ]
  },
  {
   "cell_type": "code",
   "execution_count": 10,
   "metadata": {
    "collapsed": false
   },
   "outputs": [
    {
     "data": {
      "image/png": "[encoded data removed]",
      "text/latex": [
       "$$- \\frac{b^{2} h^{2} t}{4 b + 4 h}$$"
      ],
      "text/plain": [
       "  2  2   \n",
       "-b ⋅h ⋅t \n",
       "─────────\n",
       "4⋅b + 4⋅h"
      ]
     },
     "execution_count": 10,
     "metadata": {},
     "output_type": "execute_result"
    }
   ],
   "source": [
    "simplify(sympy.series(Ixy,t,n=2).removeO())"
   ]
  },
  {
   "cell_type": "markdown",
   "metadata": {},
   "source": [
    "## 六边形：\n",
    "外接圆半径为R的吧！"
   ]
  },
  {
   "cell_type": "code",
   "execution_count": 11,
   "metadata": {
    "collapsed": false
   },
   "outputs": [
    {
     "data": {
      "image/png": "[encoded data removed]",
      "text/latex": [
       "$$\\left [ \\left ( R, \\quad 0\\right ), \\quad \\left ( \\frac{R}{2}, \\quad \\frac{\\sqrt{3} R}{2}\\right ), \\quad \\left ( - \\frac{R}{2}, \\quad \\frac{\\sqrt{3} R}{2}\\right ), \\quad \\left ( - R, \\quad 0\\right ), \\quad \\left ( - \\frac{R}{2}, \\quad - \\frac{\\sqrt{3} R}{2}\\right ), \\quad \\left ( \\frac{R}{2}, \\quad - \\frac{\\sqrt{3} R}{2}\\right )\\right ]$$"
      ],
      "text/plain": [
       "⎡        ⎛     ___  ⎞  ⎛       ___  ⎞           ⎛        ___   ⎞  ⎛      ___  \n",
       "⎢        ⎜R  ╲╱ 3 ⋅R⎟  ⎜-R   ╲╱ 3 ⋅R⎟           ⎜-R   -╲╱ 3 ⋅R ⎟  ⎜R  -╲╱ 3 ⋅R\n",
       "⎢(R, 0), ⎜─, ───────⎟, ⎜───, ───────⎟, (-R, 0), ⎜───, ─────────⎟, ⎜─, ────────\n",
       "⎣        ⎝2     2   ⎠  ⎝ 2      2   ⎠           ⎝ 2       2    ⎠  ⎝2      2   \n",
       "\n",
       " ⎞⎤\n",
       " ⎟⎥\n",
       "─⎟⎥\n",
       " ⎠⎦"
      ]
     },
     "execution_count": 11,
     "metadata": {},
     "output_type": "execute_result"
    }
   ],
   "source": [
    "var('R')\n",
    "p = [(sympy.cos(i)*R,sympy.sin(i)*R) for i in arange(6)/sympy.S.One/3*sympy.pi]\n",
    "poly = Polygon(*p)\n",
    "p"
   ]
  },
  {
   "cell_type": "code",
   "execution_count": 12,
   "metadata": {
    "collapsed": false
   },
   "outputs": [
    {
     "data": {
      "image/png": "[encoded data removed]",
      "text/latex": [
       "$$\\frac{3 \\sqrt{3}}{2} R^{2}$$"
      ],
      "text/plain": [
       "    ___  2\n",
       "3⋅╲╱ 3 ⋅R \n",
       "──────────\n",
       "    2     "
      ]
     },
     "execution_count": 12,
     "metadata": {},
     "output_type": "execute_result"
    }
   ],
   "source": [
    "poly.area"
   ]
  },
  {
   "cell_type": "code",
   "execution_count": 13,
   "metadata": {
    "collapsed": false
   },
   "outputs": [
    {
     "data": {
      "image/png": "[encoded data removed]",
      "text/latex": [
       "$$Point(0, 0)$$"
      ],
      "text/plain": [
       "Point(0, 0)"
      ]
     },
     "execution_count": 13,
     "metadata": {},
     "output_type": "execute_result"
    }
   ],
   "source": [
    "poly.centroid"
   ]
  },
  {
   "cell_type": "code",
   "execution_count": 14,
   "metadata": {
    "collapsed": false
   },
   "outputs": [
    {
     "data": {
      "image/png": "[encoded data removed]",
      "text/latex": [
       "$$\\left ( \\frac{5 \\sqrt{3}}{16} R^{4}, \\quad \\frac{5 \\sqrt{3}}{16} R^{4}, \\quad 0\\right )$$"
      ],
      "text/plain": [
       "⎛    ___  4      ___  4   ⎞\n",
       "⎜5⋅╲╱ 3 ⋅R   5⋅╲╱ 3 ⋅R    ⎟\n",
       "⎜──────────, ──────────, 0⎟\n",
       "⎝    16          16       ⎠"
      ]
     },
     "execution_count": 14,
     "metadata": {},
     "output_type": "execute_result"
    }
   ],
   "source": [
    "second_moments(poly)"
   ]
  },
  {
   "cell_type": "markdown",
   "metadata": {
    "collapsed": true
   },
   "source": [
    "## 工字梁\n",
    "等厚为$t$的情况。"
   ]
  },
  {
   "cell_type": "code",
   "execution_count": 15,
   "metadata": {
    "collapsed": false
   },
   "outputs": [
    {
     "data": {
      "image/png": "[encoded data removed]",
      "text/latex": [
       "$$\\left ( t \\left(2 b + h - 2 t\\right), \\quad Point(b/2, h/2)\\right )$$"
      ],
      "text/plain": [
       "(t⋅(2⋅b + h - 2⋅t), Point(b/2, h/2))"
      ]
     },
     "execution_count": 15,
     "metadata": {},
     "output_type": "execute_result"
    }
   ],
   "source": [
    "p = map(Point,((0,0),(b,0),(b,t),(b/2+t/2,t),(b/2+t/2,h-t),\n",
    "(b,h-t),(b,h),(0,h),(0,h-t),(b/2-t/2,h-t),(b/2-t/2,t),(0,t))\n",
    ")\n",
    "poly = Polygon(*p)\n",
    "poly.area,poly.centroid"
   ]
  },
  {
   "cell_type": "code",
   "execution_count": 16,
   "metadata": {
    "collapsed": false
   },
   "outputs": [
    {
     "data": {
      "image/png": "[encoded data removed]",
      "text/latex": [
       "$$\\left ( \\frac{t}{12} \\left(6 b h^{2} - 12 b h t + 8 b t^{2} + h^{3} - 6 h^{2} t + 12 h t^{2} - 8 t^{3}\\right), \\quad \\frac{t}{12} \\left(2 b^{3} + h t^{2} - 2 t^{3}\\right), \\quad 0\\right )$$"
      ],
      "text/plain": [
       "⎛  ⎛     2                   2    3      2           2      3⎞    ⎛   3      2\n",
       "⎜t⋅⎝6⋅b⋅h  - 12⋅b⋅h⋅t + 8⋅b⋅t  + h  - 6⋅h ⋅t + 12⋅h⋅t  - 8⋅t ⎠  t⋅⎝2⋅b  + h⋅t \n",
       "⎜─────────────────────────────────────────────────────────────, ──────────────\n",
       "⎝                              12                                         12  \n",
       "\n",
       "      3⎞   ⎞\n",
       " - 2⋅t ⎠   ⎟\n",
       "────────, 0⎟\n",
       "           ⎠"
      ]
     },
     "execution_count": 16,
     "metadata": {},
     "output_type": "execute_result"
    }
   ],
   "source": [
    "I = second_moments(poly)\n",
    "Ix,Iy,Ixy=map(simplify,I)\n",
    "Ix, Iy, Ixy"
   ]
  },
  {
   "cell_type": "code",
   "execution_count": 17,
   "metadata": {
    "collapsed": false
   },
   "outputs": [
    {
     "data": {
      "image/png": "[encoded data removed]",
      "text/latex": [
       "$$\\left ( t \\left(\\frac{b h^{2}}{2} + \\frac{h^{3}}{12}\\right) + \\mathcal{O}\\left(t^{2}\\right), \\quad \\frac{b^{3} t}{6} + \\mathcal{O}\\left(t^{2}\\right), \\quad 0\\right )$$"
      ],
      "text/plain": [
       "⎛  ⎛   2    3⎞           3             ⎞\n",
       "⎜  ⎜b⋅h    h ⎟    ⎛ 2⎞  b ⋅t    ⎛ 2⎞   ⎟\n",
       "⎜t⋅⎜──── + ──⎟ + O⎝t ⎠, ──── + O⎝t ⎠, 0⎟\n",
       "⎝  ⎝ 2     12⎠           6             ⎠"
      ]
     },
     "execution_count": 17,
     "metadata": {},
     "output_type": "execute_result"
    }
   ],
   "source": [
    "series(Ix,t,0,2), series(Iy,t,0,2), series(Ixy,t,0,2)"
   ]
  },
  {
   "cell_type": "markdown",
   "metadata": {},
   "source": [
    "翼缘和肋板不等厚的情况，翼缘为$t1$，肋板为$t2$的情况。"
   ]
  },
  {
   "cell_type": "code",
   "execution_count": 18,
   "metadata": {
    "collapsed": false
   },
   "outputs": [
    {
     "data": {
      "image/png": "[encoded data removed]",
      "text/latex": [
       "$$\\left ( 2 b t_{1} + h t_{2} - 2 t_{1} t_{2}, \\quad Point(b/2, h/2)\\right )$$"
      ],
      "text/plain": [
       "(2⋅b⋅t₁ + h⋅t₂ - 2⋅t₁⋅t₂, Point(b/2, h/2))"
      ]
     },
     "execution_count": 18,
     "metadata": {},
     "output_type": "execute_result"
    }
   ],
   "source": [
    "var('t1,t2')\n",
    "p = map(Point,((0,0),(b,0),(b,t1),(b/2+t2/2,t1),(b/2+t2/2,h-t1),\n",
    "(b,h-t1),(b,h),(0,h),(0,h-t1),(b/2-t2/2,h-t1),(b/2-t2/2,t1),(0,t1))\n",
    ")\n",
    "poly = Polygon(*p)\n",
    "poly.area,poly.centroid"
   ]
  },
  {
   "cell_type": "code",
   "execution_count": 19,
   "metadata": {
    "collapsed": false
   },
   "outputs": [
    {
     "data": {
      "image/png": "[encoded data removed]",
      "text/latex": [
       "$$\\left ( \\frac{b h^{3}}{16} + \\frac{b t_{1}}{24} \\left(h^{2} + h \\left(h - 2 t_{1}\\right) + \\left(h - 2 t_{1}\\right)^{2}\\right) + \\frac{t_{2}}{48} \\left(h - 2 t_{1}\\right)^{3} + \\frac{1}{16} \\left(- b + t_{2}\\right) \\left(h - 2 t_{1}\\right)^{3}, \\quad \\frac{b^{3} t_{1}}{6} + \\frac{h t_{2}^{3}}{12} - \\frac{t_{1} t_{2}^{3}}{6}, \\quad 0\\right )$$"
      ],
      "text/plain": [
       "⎛   3        ⎛ 2                            2⎞                3               \n",
       "⎜b⋅h    b⋅t₁⋅⎝h  + h⋅(h - 2⋅t₁) + (h - 2⋅t₁) ⎠   t₂⋅(h - 2⋅t₁)    (-b + t₂)⋅(h\n",
       "⎜──── + ────────────────────────────────────── + ────────────── + ────────────\n",
       "⎝ 16                      24                           48                   16\n",
       "\n",
       "        3   3          3        3   ⎞\n",
       " - 2⋅t₁)   b ⋅t₁   h⋅t₂    t₁⋅t₂    ⎟\n",
       "─────────, ───── + ───── - ──────, 0⎟\n",
       "             6       12      6      ⎠"
      ]
     },
     "execution_count": 19,
     "metadata": {},
     "output_type": "execute_result"
    }
   ],
   "source": [
    "I = second_moments(poly)\n",
    "Ix,Iy,Ixy=map(simplify,I)\n",
    "Ix, Iy, Ixy"
   ]
  },
  {
   "cell_type": "code",
   "execution_count": 20,
   "metadata": {
    "collapsed": false
   },
   "outputs": [
    {
     "data": {
      "image/png": "[encoded data removed]",
      "text/latex": [
       "$$\\frac{b t_{1}}{2} h^{2} + \\frac{h^{3} t_{2}}{12}$$"
      ],
      "text/plain": [
       "   2       3   \n",
       "b⋅h ⋅t₁   h ⋅t₂\n",
       "─────── + ─────\n",
       "   2        12 "
      ]
     },
     "execution_count": 20,
     "metadata": {},
     "output_type": "execute_result"
    }
   ],
   "source": [
    "series(series(series(Ix,t1,n=2),t2,n=2).removeO().expand(),t1*t2,n=1).removeO()"
   ]
  },
  {
   "cell_type": "code",
   "execution_count": 21,
   "metadata": {
    "collapsed": false
   },
   "outputs": [
    {
     "data": {
      "image/png": "[encoded data removed]",
      "text/latex": [
       "$$\\frac{b^{3} t_{1}}{6}$$"
      ],
      "text/plain": [
       " 3   \n",
       "b ⋅t₁\n",
       "─────\n",
       "  6  "
      ]
     },
     "execution_count": 21,
     "metadata": {},
     "output_type": "execute_result"
    }
   ],
   "source": [
    "series(series(series(Iy,t1,n=2),t2,n=2).removeO().expand(),t1*t2,n=1).removeO()"
   ]
  },
  {
   "cell_type": "code",
   "execution_count": 22,
   "metadata": {
    "collapsed": false
   },
   "outputs": [
    {
     "data": {
      "image/png": "[encoded data removed]",
      "text/latex": [
       "$$0$$"
      ],
      "text/plain": [
       "0"
      ]
     },
     "execution_count": 22,
     "metadata": {},
     "output_type": "execute_result"
    }
   ],
   "source": [
    "series(series(series(Ixy,t1,n=2),t2,n=2).removeO().expand(),t1*t2,n=1).removeO()"
   ]
  },
  {
   "cell_type": "markdown",
   "metadata": {},
   "source": [
    "## 槽钢的情况\n",
    "等厚为$t$"
   ]
  },
  {
   "cell_type": "code",
   "execution_count": 23,
   "metadata": {
    "collapsed": false
   },
   "outputs": [
    {
     "data": {
      "image/png": "[encoded data removed]",
      "text/latex": [
       "$$\\left ( t \\left(2 b + h - 2 t\\right), \\quad Point((-b**2 - h*t/2 + t**2)/(-2*b - h + 2*t), h/2)\\right )$$"
      ],
      "text/plain": [
       "(t⋅(2⋅b + h - 2⋅t), Point((-b**2 - h*t/2 + t**2)/(-2*b - h + 2*t), h/2))"
      ]
     },
     "execution_count": 23,
     "metadata": {},
     "output_type": "execute_result"
    }
   ],
   "source": [
    "p = map(Point,((0,0),(b,0),(b,t),(t,t),(t,h-t),\n",
    "(b,h-t),(b,h),(0,h)))\n",
    "poly = Polygon(*p)\n",
    "poly.area,poly.centroid"
   ]
  },
  {
   "cell_type": "code",
   "execution_count": 24,
   "metadata": {
    "collapsed": false
   },
   "outputs": [
    {
     "data": {
      "image/png": "[encoded data removed]",
      "text/latex": [
       "$$\\left ( \\frac{t}{12} \\left(6 b h^{2} - 12 b h t + 8 b t^{2} + h^{3} - 6 h^{2} t + 12 h t^{2} - 8 t^{3}\\right), \\quad \\frac{t}{24 b + 12 h - 24 t} \\left(4 b^{4} + 8 b^{3} h - 16 b^{3} t - 12 b^{2} h t + 24 b^{2} t^{2} + 8 b h t^{2} - 16 b t^{3} + h^{2} t^{2} - 4 h t^{3} + 4 t^{4}\\right), \\quad 0\\right )$$"
      ],
      "text/plain": [
       "⎛  ⎛     2                   2    3      2           2      3⎞    ⎛   4      3\n",
       "⎜t⋅⎝6⋅b⋅h  - 12⋅b⋅h⋅t + 8⋅b⋅t  + h  - 6⋅h ⋅t + 12⋅h⋅t  - 8⋅t ⎠  t⋅⎝4⋅b  + 8⋅b \n",
       "⎜─────────────────────────────────────────────────────────────, ──────────────\n",
       "⎝                              12                                             \n",
       "\n",
       "         3         2           2  2          2         3    2  2        3     \n",
       "⋅h - 16⋅b ⋅t - 12⋅b ⋅h⋅t + 24⋅b ⋅t  + 8⋅b⋅h⋅t  - 16⋅b⋅t  + h ⋅t  - 4⋅h⋅t  + 4⋅\n",
       "──────────────────────────────────────────────────────────────────────────────\n",
       "                         24⋅b + 12⋅h - 24⋅t                                   \n",
       "\n",
       " 4⎞   ⎞\n",
       "t ⎠   ⎟\n",
       "───, 0⎟\n",
       "      ⎠"
      ]
     },
     "execution_count": 24,
     "metadata": {},
     "output_type": "execute_result"
    }
   ],
   "source": [
    "I = second_moments(poly)\n",
    "Ix,Iy,Ixy=map(simplify,I)\n",
    "Ix, Iy, Ixy"
   ]
  },
  {
   "cell_type": "code",
   "execution_count": 25,
   "metadata": {
    "collapsed": false
   },
   "outputs": [
    {
     "data": {
      "image/png": "[encoded data removed]",
      "text/latex": [
       "$$\\left ( \\frac{h^{2} t}{12} \\left(6 b + h\\right), \\quad \\frac{b^{3} t \\left(b + 2 h\\right)}{6 b + 3 h}, \\quad 0\\right )$$"
      ],
      "text/plain": [
       "⎛ 2               3               ⎞\n",
       "⎜h ⋅t⋅(6⋅b + h)  b ⋅t⋅(b + 2⋅h)   ⎟\n",
       "⎜──────────────, ──────────────, 0⎟\n",
       "⎝      12         3⋅(2⋅b + h)     ⎠"
      ]
     },
     "execution_count": 25,
     "metadata": {},
     "output_type": "execute_result"
    }
   ],
   "source": [
    "simplify(series(Ix,t,0,2).removeO()), simplify(series(Iy,t,0,2).removeO()), series(Ixy,t,0,2)"
   ]
  },
  {
   "cell_type": "code",
   "execution_count": null,
   "metadata": {
    "collapsed": true
   },
   "outputs": [],
   "source": []
  }
 ],
 "metadata": {
  "kernelspec": {
   "display_name": "Python 2",
   "language": "python",
   "name": "python2"
  },
  "language_info": {
   "codemirror_mode": {
    "name": "ipython",
    "version": 2
   },
   "file_extension": ".py",
   "mimetype": "text/x-python",
   "name": "python",
   "nbconvert_exporter": "python",
   "pygments_lexer": "ipython2",
   "version": "2.7.9"
  }
 },
 "nbformat": 4,
 "nbformat_minor": 0
}
